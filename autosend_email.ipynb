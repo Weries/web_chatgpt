{
 "cells": [
  {
   "cell_type": "code",
   "execution_count": 2,
   "metadata": {},
   "outputs": [
    {
     "name": "stdout",
     "output_type": "stream",
     "text": [
      "2023-03-07 chatgpt网页端：833Token(4次)(0.01元)\n",
      "chat gpt 网页端2023-03-07统计情况\n",
      "问题请求tokens：66\n",
      "回答请求tokens：767\n",
      "邮件发送成功\n"
     ]
    }
   ],
   "source": [
    "# encoding:utf-8\n",
    "# FileName: send_email\n",
    "# Author:   wzg\n",
    "# email:    1010490079@qq.com\n",
    "# Date:     2019/12/1 下午 06:59\n",
    "# Description: 邮件发送--带附件\n",
    "\n",
    "\n",
    "import smtplib\n",
    "from email.header import Header\n",
    "from email.mime.multipart import MIMEMultipart\n",
    "from email.mime.text import MIMEText\n",
    "from datetime import datetime\n",
    "import pandas as pd\n",
    "\n",
    "def get_token(date):\n",
    "    df = pd.read_csv('./logs/' + date + '.txt', delimiter='\\t')\n",
    "    df['question_token_count'] = df['question'].apply(lambda x:len(x))\n",
    "    df['answer_token_count'] = df['answer'].apply(lambda x:len(x))\n",
    "    # 计算总token数\n",
    "    q_tokens = df['question_token_count'].sum()\n",
    "    a_tokens = df['answer_token_count'].sum()\n",
    "    return q_tokens, a_tokens, len(df)\n",
    "if __name__ == '__main__':\n",
    "    # 发件人邮箱\n",
    "    username = \"2464367707@qq.com\"\n",
    "    # QQ邮箱授权码\n",
    "    password = \"nqtdpthnjnbeecfe\"\n",
    "    # 可设置多个收件人邮箱\n",
    "    receivers = ['3408853453@qq.com']\n",
    "    # 设置抄送人信息，可多个，逗号分隔\n",
    "    cc = ['2464367707@qq.com']\n",
    "\n",
    "    now = datetime.now()\n",
    "    timestamp = now.strftime('%Y-%m-%d')\n",
    "    q_tokens, a_tokens,times = get_token(timestamp)\n",
    "    # 设置标题\n",
    "    subject = timestamp + \" chatgpt网页端：{}Token({}次)({}元)\".format(q_tokens+a_tokens, times, round((q_tokens+a_tokens)/1000*0.002*6,4))\n",
    "    print(subject)\n",
    "    # 设置内容\n",
    "    \n",
    "    content = \"chat gpt 网页端{}统计情况\\n问题请求tokens：{}\\n回答请求tokens：{}\".format(timestamp,q_tokens,a_tokens)\n",
    "    print(content)\n",
    "    # 创建MIMEMultipart对象，并封装相应的数据\n",
    "    message = MIMEMultipart()\n",
    "    # 封装标题\n",
    "    message['Subject'] = Header(subject, 'gbk')\n",
    "    # 封装发件人标识\n",
    "    message['From'] = \"chatgpt网页端Token统计\"\n",
    "    # 封装收件人和抄送人\n",
    "    message['to'] = Header(\",\".join(receivers))\n",
    "    message['Cc'] = Header(\",\".join(cc))\n",
    "    # 生成邮件正文\n",
    "    send_text = MIMEText(content, \"plain\", \"utf-8\")\n",
    "    # # 封装邮件正文\n",
    "    message.attach(send_text)\n",
    "    # message.attach(MIMEText(content, 'plain'))\n",
    "\n",
    "    # 读取csv文件作为附件\n",
    "    send_file_path = './logs/' + timestamp + '.txt'\n",
    "    # 发送附件\n",
    "    add_file = MIMEText(open(send_file_path, 'rb').read(), 'base64', 'gbk')\n",
    "    add_file['Content-Type'] = 'application/octet-stream'\n",
    "    # 设置文件名称\n",
    "    add_file.add_header('Content-Disposition', 'attachment', filename=\"{}\".format(send_file_path.split(\"\\\\\")[-1]))\n",
    "    message.attach(add_file)\n",
    "\n",
    "    try:\n",
    "        # 设置smtp的相关参数\n",
    "        smtp_server = 'smtp.qq.com'\n",
    "        smtp_port = 25\n",
    "        smtp = smtplib.SMTP(smtp_server, smtp_port)\n",
    "        # 登录\n",
    "        smtp.login(username, password)\n",
    "        # 发送\n",
    "        smtp.sendmail(username, receivers + cc, message.as_string())\n",
    "        smtp.quit()\n",
    "        print(\"邮件发送成功\")\n",
    "    except smtplib.SMTPException as e:\n",
    "        print(\"Error: 无法发送邮件\" + e.strerror)"
   ]
  },
  {
   "cell_type": "code",
   "execution_count": 20,
   "metadata": {},
   "outputs": [
    {
     "name": "stdout",
     "output_type": "stream",
     "text": [
      "[2, 6, 3, 3]\n"
     ]
    },
    {
     "data": {
      "text/plain": [
       "['一个', 'python', 'pat', 'cat']"
      ]
     },
     "execution_count": 20,
     "metadata": {},
     "output_type": "execute_result"
    }
   ],
   "source": [
    "s = '一个python pat cat'\n",
    "pattern = re.compile(r'([\\u4e00-\\u9fa5]+|\\w+|\\|\\|)')\n",
    "# 使用正则表达式分隔字符串，并计算每个token的长度\n",
    "token_lengths = [len(token) for token in pattern.findall(s)]\n",
    "print(token_lengths)\n",
    "pattern.findall(s)"
   ]
  },
  {
   "cell_type": "code",
   "execution_count": 16,
   "metadata": {},
   "outputs": [
    {
     "name": "stdout",
     "output_type": "stream",
     "text": [
      "0     5\n",
      "1     6\n",
      "2     5\n",
      "3    47\n",
      "Name: question_token_count, dtype: int64\n",
      "0     21\n",
      "1    121\n",
      "2     57\n",
      "3    433\n",
      "Name: answer_token_count, dtype: int64\n",
      "\n",
      "Total token count: 695\n"
     ]
    }
   ],
   "source": [
    "import pandas as pd\n",
    "import re\n",
    "# 读取表格数据\n",
    "df = pd.read_csv('./logs/2023-03-06.txt', delimiter='\\t')\n",
    "\n",
    "# 定义count_tokens函数，计算一个字符串的token数\n",
    "def count_tokens(s):\n",
    "    # 定义正则表达式，匹配中文字符和英文单词\n",
    "    pattern = re.compile(r'([\\u4e00-\\u9fa5]+|\\w+|\\|\\|)')\n",
    "    # 使用正则表达式分隔字符串，并计算每个token的长度\n",
    "    token_lengths = [len(token) for token in pattern.findall(s)]\n",
    "    # 返回总长度\n",
    "    return sum(token_lengths)\n",
    "\n",
    "# 计算question列的token数\n",
    "df['question_token_count'] = df['question'].apply(count_tokens)\n",
    "print(df['question_token_count'])\n",
    "# 计算answer列的token数\n",
    "df['answer_token_count'] = df['answer'].apply(count_tokens)\n",
    "print(df['answer_token_count'])\n",
    "# 计算总token数\n",
    "total_token_count = df['question_token_count'].sum() + df['answer_token_count'].sum()\n",
    "\n",
    "# 打印结果\n",
    "# print(df[['question', 'question_token_count', 'answer', 'answer_token_count']])\n",
    "print('\\nTotal token count:', total_token_count)\n",
    "\n",
    "\n",
    "    "
   ]
  }
 ],
 "metadata": {
  "kernelspec": {
   "display_name": "Python 3.7.12 ('pytorch')",
   "language": "python",
   "name": "python3"
  },
  "language_info": {
   "codemirror_mode": {
    "name": "ipython",
    "version": 3
   },
   "file_extension": ".py",
   "mimetype": "text/x-python",
   "name": "python",
   "nbconvert_exporter": "python",
   "pygments_lexer": "ipython3",
   "version": "3.7.12"
  },
  "orig_nbformat": 4,
  "vscode": {
   "interpreter": {
    "hash": "0747f93ff6db21b2db2bf35ad4858dd0825b9c21797c41b4cc32097944ab3f10"
   }
  }
 },
 "nbformat": 4,
 "nbformat_minor": 2
}
